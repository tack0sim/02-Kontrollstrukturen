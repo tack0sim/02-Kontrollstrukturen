{
 "cells": [
  {
   "cell_type": "markdown",
   "metadata": {},
   "source": [
    "># **02.5 <span style=\"color:#3dbdac\">Project</span> Rock Paper Scissors**"
   ]
  },
  {
   "cell_type": "code",
   "execution_count": null,
   "metadata": {
    "vscode": {
     "languageId": "html"
    }
   },
   "outputs": [],
   "source": [
    "<!DOCTYPE html>\n",
    "<html lang=\"en\">\n",
    "<head>\n",
    "    <meta charset=\"UTF-8\">\n",
    "    <meta name=\"viewport\" content=\"width=device-width, initial-scale=1.0\">\n",
    "    <title>Meine erste Seite mit JavaScript</title>\n",
    "</head>\n",
    "<body>\n",
    "    <script>\n",
    "        alert(\"Hello World\");\n",
    "    </script>\n",
    "</body>\n",
    "</html>"
   ]
  },
  {
   "cell_type": "markdown",
   "metadata": {},
   "source": [
    "***"
   ]
  },
  {
   "cell_type": "markdown",
   "metadata": {},
   "source": [
    "Buch Seite 94"
   ]
  },
  {
   "cell_type": "code",
   "execution_count": null,
   "metadata": {
    "vscode": {
     "languageId": "javascript"
    }
   },
   "outputs": [],
   "source": [
    "let a = false;\n",
    "\n",
    "if (a) {\n",
    "    alert(\"Moin\");\n",
    "}\n",
    "else {\n",
    "    alert(\"Klausur\");\n",
    "}"
   ]
  },
  {
   "cell_type": "code",
   "execution_count": null,
   "metadata": {
    "vscode": {
     "languageId": "javascript"
    }
   },
   "outputs": [],
   "source": [
    "var a = \"Lernfeld10a\";\n",
    "var b = a;\n",
    "b = \"Klausur\";\n",
    "\n",
    "alert(a + \" \" + b);"
   ]
  },
  {
   "cell_type": "code",
   "execution_count": null,
   "metadata": {
    "vscode": {
     "languageId": "javascript"
    }
   },
   "outputs": [],
   "source": [
    "\n",
    "let i = 0;\n",
    "while (i < i + 2){\n",
    "    console.log('*');\n",
    "    \n",
    "    i++;\n",
    "}"
   ]
  },
  {
   "cell_type": "code",
   "execution_count": null,
   "metadata": {
    "vscode": {
     "languageId": "javascript"
    }
   },
   "outputs": [],
   "source": [
    "function changeValue(x){\n",
    "    x += 3;\n",
    "}\n",
    "\n",
    "var a = 8;\n",
    "changeValue(a);\n",
    "\n",
    "alert(a);"
   ]
  },
  {
   "cell_type": "code",
   "execution_count": null,
   "metadata": {
    "vscode": {
     "languageId": "javascript"
    }
   },
   "outputs": [],
   "source": [
    "var x = 10;\n",
    "var y = 11;\n",
    "var z = 12;\n",
    "x = y = z = 25;\n",
    "\n",
    "alert(x);"
   ]
  }
 ],
 "metadata": {
  "language_info": {
   "name": "python"
  }
 },
 "nbformat": 4,
 "nbformat_minor": 2
}
