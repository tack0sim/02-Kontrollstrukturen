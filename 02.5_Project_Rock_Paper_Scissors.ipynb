{
 "cells": [
  {
   "cell_type": "markdown",
   "metadata": {},
   "source": [
    "># **02.5 <span style=\"color:#3dbdac\">Project</span> Rock Paper Scissors**"
   ]
  },
  {
   "cell_type": "code",
   "execution_count": null,
   "metadata": {
    "vscode": {
     "languageId": "html"
    }
   },
   "outputs": [],
   "source": [
    "<!DOCTYPE html>\n",
    "<html lang=\"en\">\n",
    "<head>\n",
    "    <meta charset=\"UTF-8\">\n",
    "    <meta name=\"viewport\" content=\"width=device-width, initial-scale=1.0\">\n",
    "    <title>Meine erste Seite mit JavaScript</title>\n",
    "</head>\n",
    "<body>\n",
    "    <script>\n",
    "        const userChoice = document.getElementById(\"input_choice\");\n",
    "const userOption = document.querySelectorAll(\".user_option\");\n",
    "const randomOption = document.getElementById(\"random_option\");\n",
    "const result = document.getElementById(\"result\");\n",
    "const submit = document.getElementById(\"submit\");\n",
    "\n",
    "let choiceArray = [\"Rock\", \"Paper\", \"Scissors\"];\n",
    "let random = choiceArray[Math.floor(Math.random() * choiceArray.length)];\n",
    "\n",
    "function play() {\n",
    "  randomOption.textContent = `Bot chose: ${random}`;\n",
    "\n",
    "  let userSelected = userChoice.value;\n",
    "\n",
    "  if (userSelected === random) {\n",
    "    result.textContent = \"Draw!\";\n",
    "  } else if (\n",
    "    (userSelected == \"Scissors\" && random == \"Rock\") ||\n",
    "    (userSelected == \"Rock\" && random == \"Paper\") ||\n",
    "    (userSelected == \"Paper\" && random == \"Scissors\")\n",
    "  ) {\n",
    "    result.textContent = `You loose! ${random} beats ${userSelected}.`;\n",
    "  } else {\n",
    "    result.textContent = \"You win!\";\n",
    "  }\n",
    "}\n",
    "\n",
    "submit.addEventListener(\"click\", play);\n",
    "\n",
    "    </script>\n",
    "</body>\n",
    "</html>"
   ]
  },
  {
   "cell_type": "markdown",
   "metadata": {},
   "source": [
    "***"
   ]
  },
  {
   "cell_type": "markdown",
   "metadata": {},
   "source": [
    "Buch Seite 94"
   ]
  },
  {
   "cell_type": "code",
   "execution_count": null,
   "metadata": {
    "vscode": {
     "languageId": "javascript"
    }
   },
   "outputs": [],
   "source": []
  },
  {
   "cell_type": "code",
   "execution_count": null,
   "metadata": {
    "vscode": {
     "languageId": "javascript"
    }
   },
   "outputs": [],
   "source": []
  },
  {
   "cell_type": "code",
   "execution_count": null,
   "metadata": {
    "vscode": {
     "languageId": "javascript"
    }
   },
   "outputs": [],
   "source": []
  },
  {
   "cell_type": "code",
   "execution_count": null,
   "metadata": {
    "vscode": {
     "languageId": "javascript"
    }
   },
   "outputs": [],
   "source": []
  },
  {
   "cell_type": "code",
   "execution_count": null,
   "metadata": {
    "vscode": {
     "languageId": "javascript"
    }
   },
   "outputs": [],
   "source": []
  }
 ],
 "metadata": {
  "language_info": {
   "name": "python"
  }
 },
 "nbformat": 4,
 "nbformat_minor": 2
}
